{
 "cells": [
  {
   "cell_type": "code",
   "execution_count": null,
   "metadata": {},
   "outputs": [],
   "source": [
    "import torch\n",
    "import tools.run_network_ as rnet\n",
    "import numpy as np\n",
    "import math\n",
    "\n",
    "import "
   ]
  },
  {
   "cell_type": "markdown",
   "metadata": {},
   "source": [
    "### Create file"
   ]
  },
  {
   "cell_type": "code",
   "execution_count": null,
   "metadata": {},
   "outputs": [],
   "source": [
    "## Standard training params:\n",
    "# look at sripts/batch_create_network.py for other options\n",
    "\n",
    "te = 450  # total training epochs\n",
    "pe = 250  # perturbation epochs\n",
    "decode_p = 0 #False ? Put 0 for velocity deocder, 1 for position decoder\n",
    "sign=0.1  # activity noise (independent)\n",
    "\n",
    "# custom options:\n",
    "nfiles = 2\n",
    "fname='relu_simple_/'\n",
    "\n"
   ]
  }
 ],
 "metadata": {
  "kernelspec": {
   "display_name": "feu_adapt",
   "language": "python",
   "name": "python3"
  },
  "language_info": {
   "name": "python",
   "version": "3.9.6"
  }
 },
 "nbformat": 4,
 "nbformat_minor": 2
}
